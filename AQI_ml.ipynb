{
  "nbformat": 4,
  "nbformat_minor": 0,
  "metadata": {
    "colab": {
      "provenance": [],
      "mount_file_id": "1M-g77uFxQRAac4qFejjzxjxscbayvcUm",
      "authorship_tag": "ABX9TyPCq0zFxnJfGQFoMIdgEy+X",
      "include_colab_link": true
    },
    "kernelspec": {
      "name": "python3",
      "display_name": "Python 3"
    },
    "language_info": {
      "name": "python"
    }
  },
  "cells": [
    {
      "cell_type": "markdown",
      "metadata": {
        "id": "view-in-github",
        "colab_type": "text"
      },
      "source": [
        "<a href=\"https://colab.research.google.com/github/leeh-nix/Clipboard-Saver/blob/main/AQI_ml.ipynb\" target=\"_parent\"><img src=\"https://colab.research.google.com/assets/colab-badge.svg\" alt=\"Open In Colab\"/></a>"
      ]
    },
    {
      "cell_type": "code",
      "execution_count": null,
      "metadata": {
        "id": "isZudMlatvw4"
      },
      "outputs": [],
      "source": [
        "import pandas as pd\n",
        "import tensorflow as tf\n",
        "import pathlib\n",
        "from sklearn.model_selection import train_test_split\n"
      ]
    },
    {
      "cell_type": "code",
      "source": [
        "dataset_path = pathlib.Path(\n",
        "    \"/content/drive/MyDrive/\"\n",
        ")\n",
        "df = pd.read_csv(f\"{dataset_path}/weather_dataset.csv\")\n",
        "dataset = df\n"
      ],
      "metadata": {
        "id": "mmLqjc09EGe_"
      },
      "execution_count": null,
      "outputs": []
    },
    {
      "cell_type": "code",
      "source": [
        "# dataset = dataset.drop(columns=['last_updated', 'last_updated_epoch', 'wind_direction', \"sunrise\", \"sunset\", \"moonrise\", \"moonset\", \"moon_illumination\"])\n",
        "us_dataset = dataset.drop(columns=[\"air_quality_gb-defra-index\", \"visibility_km\", \"gust_kph\", \"wind_kph\"])\n",
        "gb_dataset = dataset.drop(columns=[\"air_quality_us-epa-index\", \"visibility_miles\", \"gust_mph\", \"wind_mph\"])"
      ],
      "metadata": {
        "id": "_mlVDtMrfOG6"
      },
      "execution_count": null,
      "outputs": []
    },
    {
      "cell_type": "code",
      "source": [
        "# dataset[:2][:35].to_csv()\n",
        "print(df.columns)\n",
        "print(dataset.columns)\n",
        "print(us_dataset.columns)\n",
        "print(gb_dataset.columns)\n"
      ],
      "metadata": {
        "id": "4DMkMn2QfOD1"
      },
      "execution_count": null,
      "outputs": []
    },
    {
      "cell_type": "code",
      "source": [
        "gb_dataset.columns"
      ],
      "metadata": {
        "colab": {
          "base_uri": "https://localhost:8080/"
        },
        "id": "GJsjtdCX2eUn",
        "outputId": "9acfbece-97c0-41d4-c1f8-8c8797b40eca"
      },
      "execution_count": null,
      "outputs": [
        {
          "output_type": "execute_result",
          "data": {
            "text/plain": [
              "Index(['country', 'location_name', 'region', 'latitude', 'longitude',\n",
              "       'timezone', 'temperature_celsius', 'temperature_fahrenheit',\n",
              "       'condition_text', 'wind_kph', 'wind_degree', 'pressure_mb',\n",
              "       'pressure_in', 'precip_mm', 'precip_in', 'humidity', 'cloud',\n",
              "       'feels_like_celsius', 'feels_like_fahrenheit', 'visibility_km',\n",
              "       'uv_index', 'gust_kph', 'air_quality_Carbon_Monoxide',\n",
              "       'air_quality_Ozone', 'air_quality_Nitrogen_dioxide',\n",
              "       'air_quality_Sulphur_dioxide', 'air_quality_PM2.5', 'air_quality_PM10',\n",
              "       'air_quality_gb-defra-index', 'moon_phase'],\n",
              "      dtype='object')"
            ]
          },
          "metadata": {},
          "execution_count": 13
        }
      ]
    },
    {
      "cell_type": "code",
      "source": [
        "X = gb_dataset.iloc[:, :-2]\n",
        "y = gb_dataset.iloc[:, -2]\n",
        "print(X.columns)\n",
        "print(y)"
      ],
      "metadata": {
        "colab": {
          "base_uri": "https://localhost:8080/"
        },
        "id": "ZL0Wqgri2M7R",
        "outputId": "2bc31584-ea79-46c4-abee-8c08cdeb2c47"
      },
      "execution_count": null,
      "outputs": [
        {
          "output_type": "stream",
          "name": "stdout",
          "text": [
            "Index(['country', 'location_name', 'region', 'latitude', 'longitude',\n",
            "       'timezone', 'temperature_celsius', 'temperature_fahrenheit',\n",
            "       'condition_text', 'wind_kph', 'wind_degree', 'pressure_mb',\n",
            "       'pressure_in', 'precip_mm', 'precip_in', 'humidity', 'cloud',\n",
            "       'feels_like_celsius', 'feels_like_fahrenheit', 'visibility_km',\n",
            "       'uv_index', 'gust_kph', 'air_quality_Carbon_Monoxide',\n",
            "       'air_quality_Ozone', 'air_quality_Nitrogen_dioxide',\n",
            "       'air_quality_Sulphur_dioxide', 'air_quality_PM2.5', 'air_quality_PM10'],\n",
            "      dtype='object')\n",
            "0         2\n",
            "1         1\n",
            "2         2\n",
            "3         1\n",
            "4         1\n",
            "         ..\n",
            "74438    10\n",
            "74439     2\n",
            "74440    10\n",
            "74441     9\n",
            "74442    10\n",
            "Name: air_quality_gb-defra-index, Length: 74443, dtype: int64\n"
          ]
        }
      ]
    },
    {
      "cell_type": "code",
      "source": [
        "X_train, X_test, y_train, y_test = train_test_split(\n",
        "    X, y, test_size=0.33, random_state=42)"
      ],
      "metadata": {
        "id": "hmd3SPPbfOAW"
      },
      "execution_count": null,
      "outputs": []
    },
    {
      "cell_type": "code",
      "source": [],
      "metadata": {
        "id": "O77A43affN9G",
        "colab": {
          "base_uri": "https://localhost:8080/"
        },
        "outputId": "306a2224-c612-4a8a-a109-402b9ac23e69"
      },
      "execution_count": null,
      "outputs": [
        {
          "output_type": "stream",
          "name": "stdout",
          "text": [
            "unknown option: -branch\n",
            "usage: git [--version] [--help] [-C <path>] [-c <name>=<value>]\n",
            "           [--exec-path[=<path>]] [--html-path] [--man-path] [--info-path]\n",
            "           [-p | --paginate | -P | --no-pager] [--no-replace-objects] [--bare]\n",
            "           [--git-dir=<path>] [--work-tree=<path>] [--namespace=<name>]\n",
            "           [--super-prefix=<path>] [--config-env=<name>=<envvar>]\n",
            "           <command> [<args>]\n"
          ]
        }
      ]
    },
    {
      "cell_type": "code",
      "source": [],
      "metadata": {
        "id": "FwxqQjUrfN5F"
      },
      "execution_count": null,
      "outputs": []
    },
    {
      "cell_type": "code",
      "source": [],
      "metadata": {
        "id": "P5gz_0xlWqJ1"
      },
      "execution_count": null,
      "outputs": []
    }
  ]
}